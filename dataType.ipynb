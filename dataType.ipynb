{
  "nbformat": 4,
  "nbformat_minor": 0,
  "metadata": {
    "colab": {
      "provenance": [],
      "authorship_tag": "ABX9TyP9jGSsKrbeVqEtduP50/GG",
      "include_colab_link": true
    },
    "kernelspec": {
      "name": "python3",
      "display_name": "Python 3"
    },
    "language_info": {
      "name": "python"
    }
  },
  "cells": [
    {
      "cell_type": "markdown",
      "metadata": {
        "id": "view-in-github",
        "colab_type": "text"
      },
      "source": [
        "<a href=\"https://colab.research.google.com/github/myk93/Data-type-decipher/blob/main/dataType.ipynb\" target=\"_parent\"><img src=\"https://colab.research.google.com/assets/colab-badge.svg\" alt=\"Open In Colab\"/></a>"
      ]
    },
    {
      "cell_type": "markdown",
      "source": [
        "from sklearn.svm import SVC\n",
        "from sklearn.model_selection import train_test_split\n",
        "from sklearn.tree import DecisionTreeClassifier\n"
      ],
      "metadata": {
        "id": "JFbX14EUzZvI"
      }
    },
    {
      "cell_type": "code",
      "source": [
        "from sklearn.feature_extraction.text import CountVectorizer\n",
        "from sklearn.linear_model import LogisticRegression\n",
        "from sklearn.tree import DecisionTreeClassifier\n",
        "from sklearn.svm import SVC\n",
        "from sklearn.ensemble import RandomForestClassifier\n"
      ],
      "metadata": {
        "id": "Zj3n3D3E18OV"
      },
      "execution_count": 1,
      "outputs": []
    },
    {
      "cell_type": "code",
      "source": [
        "data = {\n",
        "    'strings': [\n",
        "        'Hello, world!',\n",
        "        '42',\n",
        "        '3.14',\n",
        "        'True',\n",
        "        'False',\n",
        "        'OpenAI is amazing',\n",
        "        '12345',\n",
        "        '3.14159',\n",
        "        'AI is the future',\n",
        "        'Machine Learning',\n",
        "        'Python programming',\n",
        "        'Data Science',\n",
        "        'Deep Learning',\n",
        "        'Boolean',\n",
        "        '123',\n",
        "        'Lorem ipsum dolor sit amet',\n",
        "        '53.2',\n",
        "        'Hello, OpenAI!',\n",
        "        '2022-10-15',\n",
        "        'None',\n",
        "        'I love Python',\n",
        "        '8675309',\n",
        "        '4.20',\n",
        "        '2023-07-01',\n",
        "        '2023-08-15',\n",
        "        '2023-09-30',\n",
        "        '2023-10-31',\n",
        "        '2023-11-28',\n",
        "        '2023-12-25',\n",
        "        '2024-01-01',\n",
        "        '2024-02-14',\n",
        "        '2024-03-17',\n",
        "        '1984-04-22',\n",
        "        '1994-05-31',\n",
        "        '2016-06-18',\n",
        "        '5',\n",
        "        '1194',\n",
        "        '5551124',\n",
        "        'false',\n",
        "        'true',\n",
        "        '12345',\n",
        "        '3.14159',\n",
        "        'AI is th e future',\n",
        "        'Machi ne Lear ning',\n",
        "        'Python progr amming',\n",
        "        'Data Science',\n",
        "        '0.12',\n",
        "        'Bool ean',\n",
        "        '66',\n",
        "        '118854',\n",
        "        '556624',\n",
        "        '6.6',\n",
        "        '11885.4',\n",
        "        '556.624',\n",
        "        '5.5',\n",
        "        '1194.11',\n",
        "    ],\n",
        "    'data_types': [\n",
        "        'string',\n",
        "        'integer',\n",
        "        'float',\n",
        "        'boolean',\n",
        "        'boolean',\n",
        "        'string',\n",
        "        'integer',\n",
        "        'float',\n",
        "        'string',\n",
        "        'string',\n",
        "        'string',\n",
        "        'string',\n",
        "        'string',\n",
        "        'string',\n",
        "        'integer',\n",
        "        'string',\n",
        "        'float',\n",
        "        'string',\n",
        "        'date',\n",
        "        'null',\n",
        "        'string',\n",
        "        'integer',\n",
        "        'float',\n",
        "        'date',\n",
        "        'date',\n",
        "        'date',\n",
        "        'date',\n",
        "        'date',\n",
        "        'date',\n",
        "        'date',\n",
        "        'date',\n",
        "        'date',\n",
        "        'date',\n",
        "        'date',\n",
        "        'date',\n",
        "        'integer',\n",
        "        'integer',\n",
        "        'integer',\n",
        "        'boolean',\n",
        "        'boolean',\n",
        "        'integer',\n",
        "        'float',\n",
        "        'string',\n",
        "        'string',\n",
        "        'string',\n",
        "        'string',\n",
        "        'float',\n",
        "        'string',\n",
        "        'integer',\n",
        "        'integer',\n",
        "        'integer',\n",
        "        'float',\n",
        "        'float',\n",
        "        'float',\n",
        "        'float',\n",
        "        'float',\n",
        "    ]\n",
        "}\n",
        "\n",
        "# Prepare the data\n",
        "X = data['strings']\n",
        "y = data['data_types']"
      ],
      "metadata": {
        "id": "YXzcDfFC2WYc"
      },
      "execution_count": 2,
      "outputs": []
    },
    {
      "cell_type": "code",
      "source": [
        "# Create feature vectors from the strings\n",
        "vectorizer = CountVectorizer()\n",
        "X_vectorized = vectorizer.fit_transform(X)\n"
      ],
      "metadata": {
        "id": "Tg870Rlc2Xll"
      },
      "execution_count": 5,
      "outputs": []
    },
    {
      "cell_type": "code",
      "source": [
        "model = LogisticRegression()"
      ],
      "metadata": {
        "id": "BuaovC0D8hgN"
      },
      "execution_count": 17,
      "outputs": []
    },
    {
      "cell_type": "code",
      "source": [
        "model =  DecisionTreeClassifier()"
      ],
      "metadata": {
        "id": "7kNzDbbl9M1N"
      },
      "execution_count": 48,
      "outputs": []
    },
    {
      "cell_type": "code",
      "source": [
        "model = RandomForestClassifier()"
      ],
      "metadata": {
        "id": "Z8d36Nhd9NMe"
      },
      "execution_count": 52,
      "outputs": []
    },
    {
      "cell_type": "code",
      "source": [
        "model = SVC()"
      ],
      "metadata": {
        "id": "bUVKwl0S9NSl"
      },
      "execution_count": 11,
      "outputs": []
    },
    {
      "cell_type": "code",
      "source": [
        "# Train the model\n",
        "model.fit(X_vectorized, y)"
      ],
      "metadata": {
        "colab": {
          "base_uri": "https://localhost:8080/",
          "height": 75
        },
        "id": "XBdR5CIW2bZ9",
        "outputId": "0c3b7c07-9471-40b2-c15a-2973d1644d07"
      },
      "execution_count": 19,
      "outputs": [
        {
          "output_type": "execute_result",
          "data": {
            "text/plain": [
              "LogisticRegression()"
            ],
            "text/html": [
              "<style>#sk-container-id-3 {color: black;background-color: white;}#sk-container-id-3 pre{padding: 0;}#sk-container-id-3 div.sk-toggleable {background-color: white;}#sk-container-id-3 label.sk-toggleable__label {cursor: pointer;display: block;width: 100%;margin-bottom: 0;padding: 0.3em;box-sizing: border-box;text-align: center;}#sk-container-id-3 label.sk-toggleable__label-arrow:before {content: \"▸\";float: left;margin-right: 0.25em;color: #696969;}#sk-container-id-3 label.sk-toggleable__label-arrow:hover:before {color: black;}#sk-container-id-3 div.sk-estimator:hover label.sk-toggleable__label-arrow:before {color: black;}#sk-container-id-3 div.sk-toggleable__content {max-height: 0;max-width: 0;overflow: hidden;text-align: left;background-color: #f0f8ff;}#sk-container-id-3 div.sk-toggleable__content pre {margin: 0.2em;color: black;border-radius: 0.25em;background-color: #f0f8ff;}#sk-container-id-3 input.sk-toggleable__control:checked~div.sk-toggleable__content {max-height: 200px;max-width: 100%;overflow: auto;}#sk-container-id-3 input.sk-toggleable__control:checked~label.sk-toggleable__label-arrow:before {content: \"▾\";}#sk-container-id-3 div.sk-estimator input.sk-toggleable__control:checked~label.sk-toggleable__label {background-color: #d4ebff;}#sk-container-id-3 div.sk-label input.sk-toggleable__control:checked~label.sk-toggleable__label {background-color: #d4ebff;}#sk-container-id-3 input.sk-hidden--visually {border: 0;clip: rect(1px 1px 1px 1px);clip: rect(1px, 1px, 1px, 1px);height: 1px;margin: -1px;overflow: hidden;padding: 0;position: absolute;width: 1px;}#sk-container-id-3 div.sk-estimator {font-family: monospace;background-color: #f0f8ff;border: 1px dotted black;border-radius: 0.25em;box-sizing: border-box;margin-bottom: 0.5em;}#sk-container-id-3 div.sk-estimator:hover {background-color: #d4ebff;}#sk-container-id-3 div.sk-parallel-item::after {content: \"\";width: 100%;border-bottom: 1px solid gray;flex-grow: 1;}#sk-container-id-3 div.sk-label:hover label.sk-toggleable__label {background-color: #d4ebff;}#sk-container-id-3 div.sk-serial::before {content: \"\";position: absolute;border-left: 1px solid gray;box-sizing: border-box;top: 0;bottom: 0;left: 50%;z-index: 0;}#sk-container-id-3 div.sk-serial {display: flex;flex-direction: column;align-items: center;background-color: white;padding-right: 0.2em;padding-left: 0.2em;position: relative;}#sk-container-id-3 div.sk-item {position: relative;z-index: 1;}#sk-container-id-3 div.sk-parallel {display: flex;align-items: stretch;justify-content: center;background-color: white;position: relative;}#sk-container-id-3 div.sk-item::before, #sk-container-id-3 div.sk-parallel-item::before {content: \"\";position: absolute;border-left: 1px solid gray;box-sizing: border-box;top: 0;bottom: 0;left: 50%;z-index: -1;}#sk-container-id-3 div.sk-parallel-item {display: flex;flex-direction: column;z-index: 1;position: relative;background-color: white;}#sk-container-id-3 div.sk-parallel-item:first-child::after {align-self: flex-end;width: 50%;}#sk-container-id-3 div.sk-parallel-item:last-child::after {align-self: flex-start;width: 50%;}#sk-container-id-3 div.sk-parallel-item:only-child::after {width: 0;}#sk-container-id-3 div.sk-dashed-wrapped {border: 1px dashed gray;margin: 0 0.4em 0.5em 0.4em;box-sizing: border-box;padding-bottom: 0.4em;background-color: white;}#sk-container-id-3 div.sk-label label {font-family: monospace;font-weight: bold;display: inline-block;line-height: 1.2em;}#sk-container-id-3 div.sk-label-container {text-align: center;}#sk-container-id-3 div.sk-container {/* jupyter's `normalize.less` sets `[hidden] { display: none; }` but bootstrap.min.css set `[hidden] { display: none !important; }` so we also need the `!important` here to be able to override the default hidden behavior on the sphinx rendered scikit-learn.org. See: https://github.com/scikit-learn/scikit-learn/issues/21755 */display: inline-block !important;position: relative;}#sk-container-id-3 div.sk-text-repr-fallback {display: none;}</style><div id=\"sk-container-id-3\" class=\"sk-top-container\"><div class=\"sk-text-repr-fallback\"><pre>LogisticRegression()</pre><b>In a Jupyter environment, please rerun this cell to show the HTML representation or trust the notebook. <br />On GitHub, the HTML representation is unable to render, please try loading this page with nbviewer.org.</b></div><div class=\"sk-container\" hidden><div class=\"sk-item\"><div class=\"sk-estimator sk-toggleable\"><input class=\"sk-toggleable__control sk-hidden--visually\" id=\"sk-estimator-id-3\" type=\"checkbox\" checked><label for=\"sk-estimator-id-3\" class=\"sk-toggleable__label sk-toggleable__label-arrow\">LogisticRegression</label><div class=\"sk-toggleable__content\"><pre>LogisticRegression()</pre></div></div></div></div></div>"
            ]
          },
          "metadata": {},
          "execution_count": 19
        }
      ]
    },
    {
      "cell_type": "code",
      "source": [
        "# Predict the data types of new strings\n",
        "new_strings = ['OpenAI', '100', '2.718', 'False', '12345','1993-10-28','twox']\n",
        "new_strings_vectorized = vectorizer.transform(new_strings)\n",
        "predicted_data_types = model.predict(new_strings_vectorized)"
      ],
      "metadata": {
        "id": "eUTMTL7T2h_1"
      },
      "execution_count": 20,
      "outputs": []
    },
    {
      "cell_type": "code",
      "source": [
        "# Print the predictions\n",
        "for string, data_type in zip(new_strings, predicted_data_types):\n",
        "    print(f'String: {string} - Predicted data type: {data_type}')"
      ],
      "metadata": {
        "colab": {
          "base_uri": "https://localhost:8080/"
        },
        "id": "lc7UCgfh2lQ0",
        "outputId": "656b7161-663b-4933-ebbe-80d5e9aa18c8"
      },
      "execution_count": 16,
      "outputs": [
        {
          "output_type": "stream",
          "name": "stdout",
          "text": [
            "String: OpenAI - Predicted data type: float\n",
            "String: 100 - Predicted data type: integer\n",
            "String: 2.718 - Predicted data type: integer\n",
            "String: False - Predicted data type: boolean\n",
            "String: 12345 - Predicted data type: integer\n",
            "String: 1993-10-28 - Predicted data type: date\n",
            "String: twox - Predicted data type: integer\n"
          ]
        }
      ]
    }
  ]
}